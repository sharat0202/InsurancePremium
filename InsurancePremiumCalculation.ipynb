{
 "cells": [
  {
   "cell_type": "markdown",
   "id": "f36ae252",
   "metadata": {},
   "source": [
    "<h2>INSURANCE PREMIUM CALCULATION</h2>\n",
    "<h3>Dataset: Insurance premium data</h3>\n",
    "<h4>Sharat KN</h4>"
   ]
  },
  {
   "cell_type": "markdown",
   "id": "61dbdf4f",
   "metadata": {},
   "source": [
    "IMPORTING LIBRARIES"
   ]
  },
  {
   "cell_type": "code",
   "execution_count": 1,
   "id": "eb087755",
   "metadata": {},
   "outputs": [],
   "source": [
    "import pandas as pd\n",
    "import numpy as np\n",
    "import matplotlib.pyplot as plt\n",
    "import seaborn as sns"
   ]
  },
  {
   "cell_type": "markdown",
   "id": "fbdb02ca",
   "metadata": {},
   "source": [
    "IMPORTING DATASET"
   ]
  },
  {
   "cell_type": "code",
   "execution_count": 2,
   "id": "aab0749c",
   "metadata": {},
   "outputs": [],
   "source": [
    "ds = pd.read_csv(\"insurance.csv\")"
   ]
  },
  {
   "cell_type": "markdown",
   "id": "02bc411d",
   "metadata": {},
   "source": [
    "<H3>DATA EXPLORATION </H3>"
   ]
  },
  {
   "cell_type": "code",
   "execution_count": 3,
   "id": "4c771a8e",
   "metadata": {},
   "outputs": [
    {
     "data": {
      "text/plain": [
       "pandas.core.frame.DataFrame"
      ]
     },
     "execution_count": 3,
     "metadata": {},
     "output_type": "execute_result"
    }
   ],
   "source": [
    "type(ds) #check type"
   ]
  },
  {
   "cell_type": "code",
   "execution_count": 4,
   "id": "c5bd798c",
   "metadata": {},
   "outputs": [
    {
     "name": "stdout",
     "output_type": "stream",
     "text": [
      "(1338, 7)\n"
     ]
    }
   ],
   "source": [
    "print (ds.shape) #Check size"
   ]
  },
  {
   "cell_type": "markdown",
   "id": "f3a2d522",
   "metadata": {},
   "source": [
    "Print 2 rows for sanity check to identify all the features present in the dataset and if the target matches with them."
   ]
  },
  {
   "cell_type": "code",
   "execution_count": 5,
   "id": "982e20db",
   "metadata": {},
   "outputs": [
    {
     "data": {
      "text/html": [
       "<div>\n",
       "<style scoped>\n",
       "    .dataframe tbody tr th:only-of-type {\n",
       "        vertical-align: middle;\n",
       "    }\n",
       "\n",
       "    .dataframe tbody tr th {\n",
       "        vertical-align: top;\n",
       "    }\n",
       "\n",
       "    .dataframe thead th {\n",
       "        text-align: right;\n",
       "    }\n",
       "</style>\n",
       "<table border=\"1\" class=\"dataframe\">\n",
       "  <thead>\n",
       "    <tr style=\"text-align: right;\">\n",
       "      <th></th>\n",
       "      <th>age</th>\n",
       "      <th>sex</th>\n",
       "      <th>bmi</th>\n",
       "      <th>children</th>\n",
       "      <th>smoker</th>\n",
       "      <th>region</th>\n",
       "      <th>charges</th>\n",
       "    </tr>\n",
       "  </thead>\n",
       "  <tbody>\n",
       "    <tr>\n",
       "      <th>0</th>\n",
       "      <td>19</td>\n",
       "      <td>female</td>\n",
       "      <td>27.90</td>\n",
       "      <td>0</td>\n",
       "      <td>yes</td>\n",
       "      <td>southwest</td>\n",
       "      <td>16884.9240</td>\n",
       "    </tr>\n",
       "    <tr>\n",
       "      <th>1</th>\n",
       "      <td>18</td>\n",
       "      <td>male</td>\n",
       "      <td>33.77</td>\n",
       "      <td>1</td>\n",
       "      <td>no</td>\n",
       "      <td>southeast</td>\n",
       "      <td>1725.5523</td>\n",
       "    </tr>\n",
       "  </tbody>\n",
       "</table>\n",
       "</div>"
      ],
      "text/plain": [
       "   age     sex    bmi  children smoker     region     charges\n",
       "0   19  female  27.90         0    yes  southwest  16884.9240\n",
       "1   18    male  33.77         1     no  southeast   1725.5523"
      ]
     },
     "execution_count": 5,
     "metadata": {},
     "output_type": "execute_result"
    }
   ],
   "source": [
    "ds.head(2) #display first 2 rows of the dataframe"
   ]
  },
  {
   "cell_type": "code",
   "execution_count": 6,
   "id": "f592e8bc",
   "metadata": {},
   "outputs": [
    {
     "data": {
      "text/plain": [
       "Index(['age', 'sex', 'bmi', 'children', 'smoker', 'region', 'charges'], dtype='object')"
      ]
     },
     "execution_count": 6,
     "metadata": {},
     "output_type": "execute_result"
    }
   ],
   "source": [
    "ds.columns #display the columns"
   ]
  },
  {
   "cell_type": "code",
   "execution_count": 7,
   "id": "713af760",
   "metadata": {},
   "outputs": [
    {
     "data": {
      "text/html": [
       "<div>\n",
       "<style scoped>\n",
       "    .dataframe tbody tr th:only-of-type {\n",
       "        vertical-align: middle;\n",
       "    }\n",
       "\n",
       "    .dataframe tbody tr th {\n",
       "        vertical-align: top;\n",
       "    }\n",
       "\n",
       "    .dataframe thead th {\n",
       "        text-align: right;\n",
       "    }\n",
       "</style>\n",
       "<table border=\"1\" class=\"dataframe\">\n",
       "  <thead>\n",
       "    <tr style=\"text-align: right;\">\n",
       "      <th></th>\n",
       "      <th>age</th>\n",
       "      <th>sex</th>\n",
       "      <th>bmi</th>\n",
       "      <th>children</th>\n",
       "      <th>smoker</th>\n",
       "      <th>region</th>\n",
       "      <th>charges</th>\n",
       "    </tr>\n",
       "  </thead>\n",
       "  <tbody>\n",
       "    <tr>\n",
       "      <th>count</th>\n",
       "      <td>1338.000000</td>\n",
       "      <td>1338</td>\n",
       "      <td>1338.000000</td>\n",
       "      <td>1338.000000</td>\n",
       "      <td>1338</td>\n",
       "      <td>1338</td>\n",
       "      <td>1338.000000</td>\n",
       "    </tr>\n",
       "    <tr>\n",
       "      <th>unique</th>\n",
       "      <td>NaN</td>\n",
       "      <td>2</td>\n",
       "      <td>NaN</td>\n",
       "      <td>NaN</td>\n",
       "      <td>2</td>\n",
       "      <td>4</td>\n",
       "      <td>NaN</td>\n",
       "    </tr>\n",
       "    <tr>\n",
       "      <th>top</th>\n",
       "      <td>NaN</td>\n",
       "      <td>male</td>\n",
       "      <td>NaN</td>\n",
       "      <td>NaN</td>\n",
       "      <td>no</td>\n",
       "      <td>southeast</td>\n",
       "      <td>NaN</td>\n",
       "    </tr>\n",
       "    <tr>\n",
       "      <th>freq</th>\n",
       "      <td>NaN</td>\n",
       "      <td>676</td>\n",
       "      <td>NaN</td>\n",
       "      <td>NaN</td>\n",
       "      <td>1064</td>\n",
       "      <td>364</td>\n",
       "      <td>NaN</td>\n",
       "    </tr>\n",
       "    <tr>\n",
       "      <th>mean</th>\n",
       "      <td>39.207025</td>\n",
       "      <td>NaN</td>\n",
       "      <td>30.663397</td>\n",
       "      <td>1.094918</td>\n",
       "      <td>NaN</td>\n",
       "      <td>NaN</td>\n",
       "      <td>13270.422265</td>\n",
       "    </tr>\n",
       "    <tr>\n",
       "      <th>std</th>\n",
       "      <td>14.049960</td>\n",
       "      <td>NaN</td>\n",
       "      <td>6.098187</td>\n",
       "      <td>1.205493</td>\n",
       "      <td>NaN</td>\n",
       "      <td>NaN</td>\n",
       "      <td>12110.011237</td>\n",
       "    </tr>\n",
       "    <tr>\n",
       "      <th>min</th>\n",
       "      <td>18.000000</td>\n",
       "      <td>NaN</td>\n",
       "      <td>15.960000</td>\n",
       "      <td>0.000000</td>\n",
       "      <td>NaN</td>\n",
       "      <td>NaN</td>\n",
       "      <td>1121.873900</td>\n",
       "    </tr>\n",
       "    <tr>\n",
       "      <th>10%</th>\n",
       "      <td>19.000000</td>\n",
       "      <td>NaN</td>\n",
       "      <td>22.990000</td>\n",
       "      <td>0.000000</td>\n",
       "      <td>NaN</td>\n",
       "      <td>NaN</td>\n",
       "      <td>2346.533615</td>\n",
       "    </tr>\n",
       "    <tr>\n",
       "      <th>25%</th>\n",
       "      <td>27.000000</td>\n",
       "      <td>NaN</td>\n",
       "      <td>26.296250</td>\n",
       "      <td>0.000000</td>\n",
       "      <td>NaN</td>\n",
       "      <td>NaN</td>\n",
       "      <td>4740.287150</td>\n",
       "    </tr>\n",
       "    <tr>\n",
       "      <th>50%</th>\n",
       "      <td>39.000000</td>\n",
       "      <td>NaN</td>\n",
       "      <td>30.400000</td>\n",
       "      <td>1.000000</td>\n",
       "      <td>NaN</td>\n",
       "      <td>NaN</td>\n",
       "      <td>9382.033000</td>\n",
       "    </tr>\n",
       "    <tr>\n",
       "      <th>75%</th>\n",
       "      <td>51.000000</td>\n",
       "      <td>NaN</td>\n",
       "      <td>34.693750</td>\n",
       "      <td>2.000000</td>\n",
       "      <td>NaN</td>\n",
       "      <td>NaN</td>\n",
       "      <td>16639.912515</td>\n",
       "    </tr>\n",
       "    <tr>\n",
       "      <th>95%</th>\n",
       "      <td>62.000000</td>\n",
       "      <td>NaN</td>\n",
       "      <td>41.106000</td>\n",
       "      <td>3.000000</td>\n",
       "      <td>NaN</td>\n",
       "      <td>NaN</td>\n",
       "      <td>41181.827787</td>\n",
       "    </tr>\n",
       "    <tr>\n",
       "      <th>max</th>\n",
       "      <td>64.000000</td>\n",
       "      <td>NaN</td>\n",
       "      <td>53.130000</td>\n",
       "      <td>5.000000</td>\n",
       "      <td>NaN</td>\n",
       "      <td>NaN</td>\n",
       "      <td>63770.428010</td>\n",
       "    </tr>\n",
       "  </tbody>\n",
       "</table>\n",
       "</div>"
      ],
      "text/plain": [
       "                age   sex          bmi     children smoker     region  \\\n",
       "count   1338.000000  1338  1338.000000  1338.000000   1338       1338   \n",
       "unique          NaN     2          NaN          NaN      2          4   \n",
       "top             NaN  male          NaN          NaN     no  southeast   \n",
       "freq            NaN   676          NaN          NaN   1064        364   \n",
       "mean      39.207025   NaN    30.663397     1.094918    NaN        NaN   \n",
       "std       14.049960   NaN     6.098187     1.205493    NaN        NaN   \n",
       "min       18.000000   NaN    15.960000     0.000000    NaN        NaN   \n",
       "10%       19.000000   NaN    22.990000     0.000000    NaN        NaN   \n",
       "25%       27.000000   NaN    26.296250     0.000000    NaN        NaN   \n",
       "50%       39.000000   NaN    30.400000     1.000000    NaN        NaN   \n",
       "75%       51.000000   NaN    34.693750     2.000000    NaN        NaN   \n",
       "95%       62.000000   NaN    41.106000     3.000000    NaN        NaN   \n",
       "max       64.000000   NaN    53.130000     5.000000    NaN        NaN   \n",
       "\n",
       "             charges  \n",
       "count    1338.000000  \n",
       "unique           NaN  \n",
       "top              NaN  \n",
       "freq             NaN  \n",
       "mean    13270.422265  \n",
       "std     12110.011237  \n",
       "min      1121.873900  \n",
       "10%      2346.533615  \n",
       "25%      4740.287150  \n",
       "50%      9382.033000  \n",
       "75%     16639.912515  \n",
       "95%     41181.827787  \n",
       "max     63770.428010  "
      ]
     },
     "execution_count": 7,
     "metadata": {},
     "output_type": "execute_result"
    }
   ],
   "source": [
    "#Statistical Summary of Numeric Attributes\n",
    "ds.describe(include='all', percentiles = [0.1,0.25,0.5,0.75,0.95])"
   ]
  },
  {
   "cell_type": "markdown",
   "id": "e6162199",
   "metadata": {},
   "source": [
    "We do observe some outliers for dependent variable 'charges' from the above table."
   ]
  },
  {
   "cell_type": "code",
   "execution_count": 8,
   "id": "e8d2842f",
   "metadata": {},
   "outputs": [
    {
     "name": "stdout",
     "output_type": "stream",
     "text": [
      "<class 'pandas.core.frame.DataFrame'>\n",
      "RangeIndex: 1338 entries, 0 to 1337\n",
      "Data columns (total 7 columns):\n",
      " #   Column    Non-Null Count  Dtype  \n",
      "---  ------    --------------  -----  \n",
      " 0   age       1338 non-null   int64  \n",
      " 1   sex       1338 non-null   object \n",
      " 2   bmi       1338 non-null   float64\n",
      " 3   children  1338 non-null   int64  \n",
      " 4   smoker    1338 non-null   object \n",
      " 5   region    1338 non-null   object \n",
      " 6   charges   1338 non-null   float64\n",
      "dtypes: float64(2), int64(2), object(3)\n",
      "memory usage: 73.3+ KB\n",
      "None\n"
     ]
    }
   ],
   "source": [
    "print(ds.info()) #Check for null values and datatypes"
   ]
  },
  {
   "cell_type": "code",
   "execution_count": 9,
   "id": "fabbc5a2",
   "metadata": {},
   "outputs": [
    {
     "data": {
      "text/plain": [
       "age         0\n",
       "sex         0\n",
       "bmi         0\n",
       "children    0\n",
       "smoker      0\n",
       "region      0\n",
       "charges     0\n",
       "dtype: int64"
      ]
     },
     "execution_count": 9,
     "metadata": {},
     "output_type": "execute_result"
    }
   ],
   "source": [
    "#Check for nulll values\n",
    "ds.isna().sum()"
   ]
  },
  {
   "cell_type": "markdown",
   "id": "d20a66ed",
   "metadata": {},
   "source": [
    "<b>VISUALIZATIONS</b>"
   ]
  },
  {
   "cell_type": "markdown",
   "id": "0b9f3533",
   "metadata": {},
   "source": [
    "EFFECT OF AGE, and BMI on CHARGES"
   ]
  },
  {
   "cell_type": "code",
   "execution_count": 10,
   "id": "01787668",
   "metadata": {},
   "outputs": [
    {
     "data": {
      "text/plain": [
       "<AxesSubplot:xlabel='age', ylabel='bmi'>"
      ]
     },
     "execution_count": 10,
     "metadata": {},
     "output_type": "execute_result"
    },
    {
     "data": {
      "image/png": "[encoded data removed]",
      "text/plain": [
       "<Figure size 432x288 with 2 Axes>"
      ]
     },
     "metadata": {
      "needs_background": "light"
     },
     "output_type": "display_data"
    }
   ],
   "source": [
    "\n",
    "ds.plot(kind=\"scatter\", x=\"age\", y=\"bmi\",alpha = 0.5,label=\"Insurance Charges\", c=\"charges\",cmap=plt.get_cmap(\"jet\"),colorbar=True)"
   ]
  },
  {
   "cell_type": "code",
   "execution_count": 11,
   "id": "72d12475",
   "metadata": {},
   "outputs": [
    {
     "data": {
      "text/plain": [
       "array([[<AxesSubplot:xlabel='age', ylabel='age'>,\n",
       "        <AxesSubplot:xlabel='bmi', ylabel='age'>,\n",
       "        <AxesSubplot:xlabel='charges', ylabel='age'>],\n",
       "       [<AxesSubplot:xlabel='age', ylabel='bmi'>,\n",
       "        <AxesSubplot:xlabel='bmi', ylabel='bmi'>,\n",
       "        <AxesSubplot:xlabel='charges', ylabel='bmi'>],\n",
       "       [<AxesSubplot:xlabel='age', ylabel='charges'>,\n",
       "        <AxesSubplot:xlabel='bmi', ylabel='charges'>,\n",
       "        <AxesSubplot:xlabel='charges', ylabel='charges'>]], dtype=object)"
      ]
     },
     "execution_count": 11,
     "metadata": {},
     "output_type": "execute_result"
    },
    {
     "data": {
      "image/png": "[encoded data removed]",
      "text/plain": [
       "<Figure size 432x288 with 9 Axes>"
      ]
     },
     "metadata": {
      "needs_background": "light"
     },
     "output_type": "display_data"
    }
   ],
   "source": [
    "from pandas.plotting import scatter_matrix\n",
    "attributes = [\"age\", \"bmi\",\"charges\"]\n",
    "scatter_matrix(ds[attributes])"
   ]
  },
  {
   "cell_type": "code",
   "execution_count": 12,
   "id": "f30d883f",
   "metadata": {},
   "outputs": [
    {
     "data": {
      "text/plain": [
       "<AxesSubplot:xlabel='bmi', ylabel='charges'>"
      ]
     },
     "execution_count": 12,
     "metadata": {},
     "output_type": "execute_result"
    },
    {
     "data": {
      "image/png": "[encoded data removed]",
      "text/plain": [
       "<Figure size 432x288 with 1 Axes>"
      ]
     },
     "metadata": {
      "needs_background": "light"
     },
     "output_type": "display_data"
    }
   ],
   "source": [
    "# BMI as potential predictor variable of Charges\n",
    "sns.regplot(x=\"bmi\", y=\"charges\", data=ds)\n"
   ]
  },
  {
   "cell_type": "markdown",
   "id": "f75c25eb",
   "metadata": {},
   "source": [
    "Positive Correlation between BMI and Charges Observed"
   ]
  },
  {
   "cell_type": "code",
   "execution_count": 13,
   "id": "110ac707",
   "metadata": {},
   "outputs": [
    {
     "data": {
      "text/plain": [
       "<AxesSubplot:xlabel='age', ylabel='charges'>"
      ]
     },
     "execution_count": 13,
     "metadata": {},
     "output_type": "execute_result"
    },
    {
     "data": {
      "image/png": "[encoded data removed]",
      "text/plain": [
       "<Figure size 432x288 with 1 Axes>"
      ]
     },
     "metadata": {
      "needs_background": "light"
     },
     "output_type": "display_data"
    }
   ],
   "source": [
    "# Age as potential predictor variable of Charges\n",
    "sns.regplot(x=\"age\", y=\"charges\", data=ds)\n"
   ]
  },
  {
   "cell_type": "markdown",
   "id": "b77863a3",
   "metadata": {},
   "source": [
    "Positive Correlation between Age and Charges observed"
   ]
  },
  {
   "cell_type": "code",
   "execution_count": 14,
   "id": "ebae7ba0",
   "metadata": {},
   "outputs": [
    {
     "data": {
      "text/plain": [
       "Text(0.5, 1.0, 'Barplot of CHARGES by NO: OF CHILDREN')"
      ]
     },
     "execution_count": 14,
     "metadata": {},
     "output_type": "execute_result"
    },
    {
     "data": {
      "image/png": "[encoded data removed]",
      "text/plain": [
       "<Figure size 1152x288 with 2 Axes>"
      ]
     },
     "metadata": {
      "needs_background": "light"
     },
     "output_type": "display_data"
    }
   ],
   "source": [
    "# Children as potential predictor variable of Charges\n",
    "fig, axes =plt.subplots(1,2, figsize=(16,4))\n",
    "\n",
    "sns.countplot(data=ds, x='children', ax=axes[0])\n",
    "axes[0].set_title('Countplot of NO: OF CHILDREN')\n",
    "sns.barplot(data=ds, x='children', y='charges', ax=axes[1])\n",
    "axes[1].set_title('Barplot of CHARGES by NO: OF CHILDREN')"
   ]
  },
  {
   "cell_type": "markdown",
   "id": "d32e1f78",
   "metadata": {},
   "source": [
    "Number of Children do not show any particular affect on the dependent variable 'charges'. There seems to be no significant correlation between datasets. "
   ]
  },
  {
   "cell_type": "code",
   "execution_count": 15,
   "id": "0f8c2368",
   "metadata": {},
   "outputs": [
    {
     "data": {
      "text/plain": [
       "Text(0.5, 1.0, 'Barplot of CHARGES by REGION')"
      ]
     },
     "execution_count": 15,
     "metadata": {},
     "output_type": "execute_result"
    },
    {
     "data": {
      "image/png": "[encoded data removed]",
      "text/plain": [
       "<Figure size 1152x288 with 2 Axes>"
      ]
     },
     "metadata": {
      "needs_background": "light"
     },
     "output_type": "display_data"
    }
   ],
   "source": [
    "# Region as potential predictor variable of Charges\n",
    "\n",
    "fig, axes =plt.subplots(1,2, figsize=(16,4))\n",
    "\n",
    "sns.countplot(data=ds, x='region', ax=axes[0])\n",
    "axes[0].set_title('Countplot of REGION')\n",
    "sns.barplot(data=ds, x='region', y='charges', ax=axes[1])\n",
    "axes[1].set_title('Barplot of CHARGES by REGION')"
   ]
  },
  {
   "cell_type": "markdown",
   "id": "dcf1144e",
   "metadata": {},
   "source": [
    "Dataset 'Region' do not show any particular affect on the dependent variable 'charges'. There seems to be no significant correlation between datasets."
   ]
  },
  {
   "cell_type": "code",
   "execution_count": 16,
   "id": "a74f371b",
   "metadata": {},
   "outputs": [
    {
     "data": {
      "text/plain": [
       "Text(0.5, 1.0, 'Barplot of CHARGES by SMOKER')"
      ]
     },
     "execution_count": 16,
     "metadata": {},
     "output_type": "execute_result"
    },
    {
     "data": {
      "image/png": "[encoded data removed]",
      "text/plain": [
       "<Figure size 1152x288 with 2 Axes>"
      ]
     },
     "metadata": {
      "needs_background": "light"
     },
     "output_type": "display_data"
    }
   ],
   "source": [
    "# Smoker as potential predictor variable of Charges\n",
    "fig, axes =plt.subplots(1,2, figsize=(16,4))\n",
    "\n",
    "sns.countplot(data=ds, x='smoker', ax=axes[0])\n",
    "axes[0].set_title('Countplot of SMOKERS')\n",
    "sns.barplot(data=ds, x='smoker', y='charges', ax=axes[1])\n",
    "axes[1].set_title('Barplot of CHARGES by SMOKER')\n"
   ]
  },
  {
   "cell_type": "markdown",
   "id": "fa2fc8a2",
   "metadata": {},
   "source": [
    "Though we have comparatively less amount of individuals who are smokers, the charges are disproportionaly high for the smoker individuals compared to non smokers. The graph indicate a very high correlation for individuals with 'smoker' attribute"
   ]
  },
  {
   "cell_type": "code",
   "execution_count": 17,
   "id": "41359d31",
   "metadata": {},
   "outputs": [
    {
     "data": {
      "text/plain": [
       "Text(0.5, 1.0, 'Barplot of CHARGES by SEX')"
      ]
     },
     "execution_count": 17,
     "metadata": {},
     "output_type": "execute_result"
    },
    {
     "data": {
      "image/png": "[encoded data removed]",
      "text/plain": [
       "<Figure size 1152x288 with 2 Axes>"
      ]
     },
     "metadata": {
      "needs_background": "light"
     },
     "output_type": "display_data"
    }
   ],
   "source": [
    "# Sex as potential predictor variable of Charges\n",
    "fig, axes =plt.subplots(1,2, figsize=(16,4))\n",
    "\n",
    "sns.countplot(data=ds, x='sex', ax=axes[0])\n",
    "axes[0].set_title('Countplot of SEXES')\n",
    "sns.barplot(data=ds, x='sex', y='charges', ax=axes[1])\n",
    "axes[1].set_title('Barplot of CHARGES by SEX')"
   ]
  },
  {
   "cell_type": "markdown",
   "id": "8645c2c9",
   "metadata": {},
   "source": [
    "Here also we see the correlation between SEX and the dependent variable 'Charges' is very weak. But males do tend to be charged higher than females."
   ]
  },
  {
   "cell_type": "code",
   "execution_count": 18,
   "id": "5b5e71e9",
   "metadata": {},
   "outputs": [
    {
     "data": {
      "image/png": "[encoded data removed]",
      "text/plain": [
       "<Figure size 432x288 with 1 Axes>"
      ]
     },
     "metadata": {
      "needs_background": "light"
     },
     "output_type": "display_data"
    }
   ],
   "source": [
    "# Histogram for dependent variable 'Charges'\n",
    "\n",
    "sns.histplot(data=ds, x='charges', kde=True)\n",
    "plt.show()"
   ]
  },
  {
   "cell_type": "markdown",
   "id": "71c60668",
   "metadata": {},
   "source": [
    "The above dataset is positively skewed. This tells we need to apply some standardization technique on 'charges'."
   ]
  },
  {
   "cell_type": "markdown",
   "id": "539b6b6f",
   "metadata": {},
   "source": [
    "<h3>PRE PROCESSING </h3>"
   ]
  },
  {
   "cell_type": "markdown",
   "id": "c2da27cb",
   "metadata": {},
   "source": [
    "We have found 3 attributes which are categorical - Sex, Smoker, and Region.\n",
    "Hence we convert them from categorical variables into a binary vector representation.\n",
    "We use <b>One Hot Encoder</b> for this purpose"
   ]
  },
  {
   "cell_type": "code",
   "execution_count": 19,
   "id": "ecfaa409",
   "metadata": {},
   "outputs": [],
   "source": [
    "from sklearn.preprocessing import OneHotEncoder\n",
    "\n",
    "#creating instance of one-hot-encoder\n",
    "ohe = OneHotEncoder(handle_unknown='ignore')"
   ]
  },
  {
   "cell_type": "code",
   "execution_count": 20,
   "id": "e772f45c",
   "metadata": {},
   "outputs": [],
   "source": [
    "#perform one-hot encoding on 'smoker' column \n",
    "encoder_smoke = pd.DataFrame(ohe.fit_transform(ds[['smoker']]).toarray())\n",
    "encoder_smoke.columns = ohe.get_feature_names_out(['smoker'])\n",
    "\n",
    "#merge one-hot encoded columns back with original DataFrame\n",
    "ds_1 = ds.join(encoder_smoke)"
   ]
  },
  {
   "cell_type": "code",
   "execution_count": 21,
   "id": "c9316b95",
   "metadata": {},
   "outputs": [],
   "source": [
    "#perform one-hot encoding on 'sex' column \n",
    "encoder_sex = pd.DataFrame(ohe.fit_transform(ds_1[['sex']]).toarray())\n",
    "encoder_sex.columns = ohe.get_feature_names_out(['sex'])\n",
    "\n",
    "#merge one-hot encoded columns back with original DataFrame\n",
    "ds_2 = ds_1.join(encoder_sex)"
   ]
  },
  {
   "cell_type": "code",
   "execution_count": 22,
   "id": "2cba5297",
   "metadata": {},
   "outputs": [],
   "source": [
    "#perform one-hot encoding on 'region' column \n",
    "encoder_region = pd.DataFrame(ohe.fit_transform(ds_2[['region']]).toarray())\n",
    "encoder_region.columns = ohe.get_feature_names_out(['region'])\n",
    "\n",
    "ds_final = ds_2.join(encoder_region)"
   ]
  },
  {
   "cell_type": "code",
   "execution_count": 23,
   "id": "5d299482",
   "metadata": {},
   "outputs": [
    {
     "name": "stdout",
     "output_type": "stream",
     "text": [
      "      age     sex     bmi  children smoker     region      charges  smoker_no  \\\n",
      "0      19  female  27.900         0    yes  southwest  16884.92400        0.0   \n",
      "1      18    male  33.770         1     no  southeast   1725.55230        1.0   \n",
      "2      28    male  33.000         3     no  southeast   4449.46200        1.0   \n",
      "3      33    male  22.705         0     no  northwest  21984.47061        1.0   \n",
      "4      32    male  28.880         0     no  northwest   3866.85520        1.0   \n",
      "...   ...     ...     ...       ...    ...        ...          ...        ...   \n",
      "1333   50    male  30.970         3     no  northwest  10600.54830        1.0   \n",
      "1334   18  female  31.920         0     no  northeast   2205.98080        1.0   \n",
      "1335   18  female  36.850         0     no  southeast   1629.83350        1.0   \n",
      "1336   21  female  25.800         0     no  southwest   2007.94500        1.0   \n",
      "1337   61  female  29.070         0    yes  northwest  29141.36030        0.0   \n",
      "\n",
      "      smoker_yes  sex_female  sex_male  region_northeast  region_northwest  \\\n",
      "0            1.0         1.0       0.0               0.0               0.0   \n",
      "1            0.0         0.0       1.0               0.0               0.0   \n",
      "2            0.0         0.0       1.0               0.0               0.0   \n",
      "3            0.0         0.0       1.0               0.0               1.0   \n",
      "4            0.0         0.0       1.0               0.0               1.0   \n",
      "...          ...         ...       ...               ...               ...   \n",
      "1333         0.0         0.0       1.0               0.0               1.0   \n",
      "1334         0.0         1.0       0.0               1.0               0.0   \n",
      "1335         0.0         1.0       0.0               0.0               0.0   \n",
      "1336         0.0         1.0       0.0               0.0               0.0   \n",
      "1337         1.0         1.0       0.0               0.0               1.0   \n",
      "\n",
      "      region_southeast  region_southwest  \n",
      "0                  0.0               1.0  \n",
      "1                  1.0               0.0  \n",
      "2                  1.0               0.0  \n",
      "3                  0.0               0.0  \n",
      "4                  0.0               0.0  \n",
      "...                ...               ...  \n",
      "1333               0.0               0.0  \n",
      "1334               0.0               0.0  \n",
      "1335               1.0               0.0  \n",
      "1336               0.0               1.0  \n",
      "1337               0.0               0.0  \n",
      "\n",
      "[1338 rows x 15 columns]\n"
     ]
    }
   ],
   "source": [
    "print(ds_final)"
   ]
  },
  {
   "cell_type": "markdown",
   "id": "7b9eed55",
   "metadata": {},
   "source": [
    "Dropping Redundant Columns from the dataset"
   ]
  },
  {
   "cell_type": "code",
   "execution_count": 24,
   "id": "0d8b7b8a",
   "metadata": {},
   "outputs": [
    {
     "data": {
      "text/html": [
       "<div>\n",
       "<style scoped>\n",
       "    .dataframe tbody tr th:only-of-type {\n",
       "        vertical-align: middle;\n",
       "    }\n",
       "\n",
       "    .dataframe tbody tr th {\n",
       "        vertical-align: top;\n",
       "    }\n",
       "\n",
       "    .dataframe thead th {\n",
       "        text-align: right;\n",
       "    }\n",
       "</style>\n",
       "<table border=\"1\" class=\"dataframe\">\n",
       "  <thead>\n",
       "    <tr style=\"text-align: right;\">\n",
       "      <th></th>\n",
       "      <th>age</th>\n",
       "      <th>bmi</th>\n",
       "      <th>children</th>\n",
       "      <th>charges</th>\n",
       "      <th>smoker_no</th>\n",
       "      <th>smoker_yes</th>\n",
       "      <th>sex_female</th>\n",
       "      <th>sex_male</th>\n",
       "      <th>region_northeast</th>\n",
       "      <th>region_northwest</th>\n",
       "      <th>region_southeast</th>\n",
       "      <th>region_southwest</th>\n",
       "    </tr>\n",
       "  </thead>\n",
       "  <tbody>\n",
       "    <tr>\n",
       "      <th>0</th>\n",
       "      <td>19</td>\n",
       "      <td>27.900</td>\n",
       "      <td>0</td>\n",
       "      <td>16884.92400</td>\n",
       "      <td>0.0</td>\n",
       "      <td>1.0</td>\n",
       "      <td>1.0</td>\n",
       "      <td>0.0</td>\n",
       "      <td>0.0</td>\n",
       "      <td>0.0</td>\n",
       "      <td>0.0</td>\n",
       "      <td>1.0</td>\n",
       "    </tr>\n",
       "    <tr>\n",
       "      <th>1</th>\n",
       "      <td>18</td>\n",
       "      <td>33.770</td>\n",
       "      <td>1</td>\n",
       "      <td>1725.55230</td>\n",
       "      <td>1.0</td>\n",
       "      <td>0.0</td>\n",
       "      <td>0.0</td>\n",
       "      <td>1.0</td>\n",
       "      <td>0.0</td>\n",
       "      <td>0.0</td>\n",
       "      <td>1.0</td>\n",
       "      <td>0.0</td>\n",
       "    </tr>\n",
       "    <tr>\n",
       "      <th>2</th>\n",
       "      <td>28</td>\n",
       "      <td>33.000</td>\n",
       "      <td>3</td>\n",
       "      <td>4449.46200</td>\n",
       "      <td>1.0</td>\n",
       "      <td>0.0</td>\n",
       "      <td>0.0</td>\n",
       "      <td>1.0</td>\n",
       "      <td>0.0</td>\n",
       "      <td>0.0</td>\n",
       "      <td>1.0</td>\n",
       "      <td>0.0</td>\n",
       "    </tr>\n",
       "    <tr>\n",
       "      <th>3</th>\n",
       "      <td>33</td>\n",
       "      <td>22.705</td>\n",
       "      <td>0</td>\n",
       "      <td>21984.47061</td>\n",
       "      <td>1.0</td>\n",
       "      <td>0.0</td>\n",
       "      <td>0.0</td>\n",
       "      <td>1.0</td>\n",
       "      <td>0.0</td>\n",
       "      <td>1.0</td>\n",
       "      <td>0.0</td>\n",
       "      <td>0.0</td>\n",
       "    </tr>\n",
       "    <tr>\n",
       "      <th>4</th>\n",
       "      <td>32</td>\n",
       "      <td>28.880</td>\n",
       "      <td>0</td>\n",
       "      <td>3866.85520</td>\n",
       "      <td>1.0</td>\n",
       "      <td>0.0</td>\n",
       "      <td>0.0</td>\n",
       "      <td>1.0</td>\n",
       "      <td>0.0</td>\n",
       "      <td>1.0</td>\n",
       "      <td>0.0</td>\n",
       "      <td>0.0</td>\n",
       "    </tr>\n",
       "    <tr>\n",
       "      <th>...</th>\n",
       "      <td>...</td>\n",
       "      <td>...</td>\n",
       "      <td>...</td>\n",
       "      <td>...</td>\n",
       "      <td>...</td>\n",
       "      <td>...</td>\n",
       "      <td>...</td>\n",
       "      <td>...</td>\n",
       "      <td>...</td>\n",
       "      <td>...</td>\n",
       "      <td>...</td>\n",
       "      <td>...</td>\n",
       "    </tr>\n",
       "    <tr>\n",
       "      <th>1333</th>\n",
       "      <td>50</td>\n",
       "      <td>30.970</td>\n",
       "      <td>3</td>\n",
       "      <td>10600.54830</td>\n",
       "      <td>1.0</td>\n",
       "      <td>0.0</td>\n",
       "      <td>0.0</td>\n",
       "      <td>1.0</td>\n",
       "      <td>0.0</td>\n",
       "      <td>1.0</td>\n",
       "      <td>0.0</td>\n",
       "      <td>0.0</td>\n",
       "    </tr>\n",
       "    <tr>\n",
       "      <th>1334</th>\n",
       "      <td>18</td>\n",
       "      <td>31.920</td>\n",
       "      <td>0</td>\n",
       "      <td>2205.98080</td>\n",
       "      <td>1.0</td>\n",
       "      <td>0.0</td>\n",
       "      <td>1.0</td>\n",
       "      <td>0.0</td>\n",
       "      <td>1.0</td>\n",
       "      <td>0.0</td>\n",
       "      <td>0.0</td>\n",
       "      <td>0.0</td>\n",
       "    </tr>\n",
       "    <tr>\n",
       "      <th>1335</th>\n",
       "      <td>18</td>\n",
       "      <td>36.850</td>\n",
       "      <td>0</td>\n",
       "      <td>1629.83350</td>\n",
       "      <td>1.0</td>\n",
       "      <td>0.0</td>\n",
       "      <td>1.0</td>\n",
       "      <td>0.0</td>\n",
       "      <td>0.0</td>\n",
       "      <td>0.0</td>\n",
       "      <td>1.0</td>\n",
       "      <td>0.0</td>\n",
       "    </tr>\n",
       "    <tr>\n",
       "      <th>1336</th>\n",
       "      <td>21</td>\n",
       "      <td>25.800</td>\n",
       "      <td>0</td>\n",
       "      <td>2007.94500</td>\n",
       "      <td>1.0</td>\n",
       "      <td>0.0</td>\n",
       "      <td>1.0</td>\n",
       "      <td>0.0</td>\n",
       "      <td>0.0</td>\n",
       "      <td>0.0</td>\n",
       "      <td>0.0</td>\n",
       "      <td>1.0</td>\n",
       "    </tr>\n",
       "    <tr>\n",
       "      <th>1337</th>\n",
       "      <td>61</td>\n",
       "      <td>29.070</td>\n",
       "      <td>0</td>\n",
       "      <td>29141.36030</td>\n",
       "      <td>0.0</td>\n",
       "      <td>1.0</td>\n",
       "      <td>1.0</td>\n",
       "      <td>0.0</td>\n",
       "      <td>0.0</td>\n",
       "      <td>1.0</td>\n",
       "      <td>0.0</td>\n",
       "      <td>0.0</td>\n",
       "    </tr>\n",
       "  </tbody>\n",
       "</table>\n",
       "<p>1338 rows × 12 columns</p>\n",
       "</div>"
      ],
      "text/plain": [
       "      age     bmi  children      charges  smoker_no  smoker_yes  sex_female  \\\n",
       "0      19  27.900         0  16884.92400        0.0         1.0         1.0   \n",
       "1      18  33.770         1   1725.55230        1.0         0.0         0.0   \n",
       "2      28  33.000         3   4449.46200        1.0         0.0         0.0   \n",
       "3      33  22.705         0  21984.47061        1.0         0.0         0.0   \n",
       "4      32  28.880         0   3866.85520        1.0         0.0         0.0   \n",
       "...   ...     ...       ...          ...        ...         ...         ...   \n",
       "1333   50  30.970         3  10600.54830        1.0         0.0         0.0   \n",
       "1334   18  31.920         0   2205.98080        1.0         0.0         1.0   \n",
       "1335   18  36.850         0   1629.83350        1.0         0.0         1.0   \n",
       "1336   21  25.800         0   2007.94500        1.0         0.0         1.0   \n",
       "1337   61  29.070         0  29141.36030        0.0         1.0         1.0   \n",
       "\n",
       "      sex_male  region_northeast  region_northwest  region_southeast  \\\n",
       "0          0.0               0.0               0.0               0.0   \n",
       "1          1.0               0.0               0.0               1.0   \n",
       "2          1.0               0.0               0.0               1.0   \n",
       "3          1.0               0.0               1.0               0.0   \n",
       "4          1.0               0.0               1.0               0.0   \n",
       "...        ...               ...               ...               ...   \n",
       "1333       1.0               0.0               1.0               0.0   \n",
       "1334       0.0               1.0               0.0               0.0   \n",
       "1335       0.0               0.0               0.0               1.0   \n",
       "1336       0.0               0.0               0.0               0.0   \n",
       "1337       0.0               0.0               1.0               0.0   \n",
       "\n",
       "      region_southwest  \n",
       "0                  1.0  \n",
       "1                  0.0  \n",
       "2                  0.0  \n",
       "3                  0.0  \n",
       "4                  0.0  \n",
       "...                ...  \n",
       "1333               0.0  \n",
       "1334               0.0  \n",
       "1335               0.0  \n",
       "1336               1.0  \n",
       "1337               0.0  \n",
       "\n",
       "[1338 rows x 12 columns]"
      ]
     },
     "execution_count": 24,
     "metadata": {},
     "output_type": "execute_result"
    }
   ],
   "source": [
    "#Drop Redundant Information from the final edited dataset\n",
    "ds_final = ds_final.drop(columns=['smoker', 'region','sex'])\n",
    "\n",
    "ds_final"
   ]
  },
  {
   "cell_type": "markdown",
   "id": "d9c221c6",
   "metadata": {},
   "source": [
    "<h3>Correlation Analysis</h3>"
   ]
  },
  {
   "cell_type": "code",
   "execution_count": 25,
   "id": "59e234fb",
   "metadata": {
    "scrolled": false
   },
   "outputs": [
    {
     "data": {
      "text/html": [
       "<div>\n",
       "<style scoped>\n",
       "    .dataframe tbody tr th:only-of-type {\n",
       "        vertical-align: middle;\n",
       "    }\n",
       "\n",
       "    .dataframe tbody tr th {\n",
       "        vertical-align: top;\n",
       "    }\n",
       "\n",
       "    .dataframe thead th {\n",
       "        text-align: right;\n",
       "    }\n",
       "</style>\n",
       "<table border=\"1\" class=\"dataframe\">\n",
       "  <thead>\n",
       "    <tr style=\"text-align: right;\">\n",
       "      <th></th>\n",
       "      <th>age</th>\n",
       "      <th>bmi</th>\n",
       "      <th>children</th>\n",
       "      <th>charges</th>\n",
       "      <th>smoker_no</th>\n",
       "      <th>smoker_yes</th>\n",
       "      <th>sex_female</th>\n",
       "      <th>sex_male</th>\n",
       "      <th>region_northeast</th>\n",
       "      <th>region_northwest</th>\n",
       "      <th>region_southeast</th>\n",
       "      <th>region_southwest</th>\n",
       "    </tr>\n",
       "  </thead>\n",
       "  <tbody>\n",
       "    <tr>\n",
       "      <th>age</th>\n",
       "      <td>1.000000</td>\n",
       "      <td>0.109272</td>\n",
       "      <td>0.042469</td>\n",
       "      <td>0.299008</td>\n",
       "      <td>0.025019</td>\n",
       "      <td>-0.025019</td>\n",
       "      <td>0.020856</td>\n",
       "      <td>-0.020856</td>\n",
       "      <td>0.002475</td>\n",
       "      <td>-0.000407</td>\n",
       "      <td>-0.011642</td>\n",
       "      <td>0.010016</td>\n",
       "    </tr>\n",
       "    <tr>\n",
       "      <th>bmi</th>\n",
       "      <td>0.109272</td>\n",
       "      <td>1.000000</td>\n",
       "      <td>0.012759</td>\n",
       "      <td>0.198341</td>\n",
       "      <td>-0.003750</td>\n",
       "      <td>0.003750</td>\n",
       "      <td>-0.046371</td>\n",
       "      <td>0.046371</td>\n",
       "      <td>-0.138156</td>\n",
       "      <td>-0.135996</td>\n",
       "      <td>0.270025</td>\n",
       "      <td>-0.006205</td>\n",
       "    </tr>\n",
       "    <tr>\n",
       "      <th>children</th>\n",
       "      <td>0.042469</td>\n",
       "      <td>0.012759</td>\n",
       "      <td>1.000000</td>\n",
       "      <td>0.067998</td>\n",
       "      <td>-0.007673</td>\n",
       "      <td>0.007673</td>\n",
       "      <td>-0.017163</td>\n",
       "      <td>0.017163</td>\n",
       "      <td>-0.022808</td>\n",
       "      <td>0.024806</td>\n",
       "      <td>-0.023066</td>\n",
       "      <td>0.021914</td>\n",
       "    </tr>\n",
       "    <tr>\n",
       "      <th>charges</th>\n",
       "      <td>0.299008</td>\n",
       "      <td>0.198341</td>\n",
       "      <td>0.067998</td>\n",
       "      <td>1.000000</td>\n",
       "      <td>-0.787251</td>\n",
       "      <td>0.787251</td>\n",
       "      <td>-0.057292</td>\n",
       "      <td>0.057292</td>\n",
       "      <td>0.006349</td>\n",
       "      <td>-0.039905</td>\n",
       "      <td>0.073982</td>\n",
       "      <td>-0.043210</td>\n",
       "    </tr>\n",
       "    <tr>\n",
       "      <th>smoker_no</th>\n",
       "      <td>0.025019</td>\n",
       "      <td>-0.003750</td>\n",
       "      <td>-0.007673</td>\n",
       "      <td>-0.787251</td>\n",
       "      <td>1.000000</td>\n",
       "      <td>-1.000000</td>\n",
       "      <td>0.076185</td>\n",
       "      <td>-0.076185</td>\n",
       "      <td>-0.002811</td>\n",
       "      <td>0.036945</td>\n",
       "      <td>-0.068498</td>\n",
       "      <td>0.036945</td>\n",
       "    </tr>\n",
       "    <tr>\n",
       "      <th>smoker_yes</th>\n",
       "      <td>-0.025019</td>\n",
       "      <td>0.003750</td>\n",
       "      <td>0.007673</td>\n",
       "      <td>0.787251</td>\n",
       "      <td>-1.000000</td>\n",
       "      <td>1.000000</td>\n",
       "      <td>-0.076185</td>\n",
       "      <td>0.076185</td>\n",
       "      <td>0.002811</td>\n",
       "      <td>-0.036945</td>\n",
       "      <td>0.068498</td>\n",
       "      <td>-0.036945</td>\n",
       "    </tr>\n",
       "    <tr>\n",
       "      <th>sex_female</th>\n",
       "      <td>0.020856</td>\n",
       "      <td>-0.046371</td>\n",
       "      <td>-0.017163</td>\n",
       "      <td>-0.057292</td>\n",
       "      <td>0.076185</td>\n",
       "      <td>-0.076185</td>\n",
       "      <td>1.000000</td>\n",
       "      <td>-1.000000</td>\n",
       "      <td>0.002425</td>\n",
       "      <td>0.011156</td>\n",
       "      <td>-0.017117</td>\n",
       "      <td>0.004184</td>\n",
       "    </tr>\n",
       "    <tr>\n",
       "      <th>sex_male</th>\n",
       "      <td>-0.020856</td>\n",
       "      <td>0.046371</td>\n",
       "      <td>0.017163</td>\n",
       "      <td>0.057292</td>\n",
       "      <td>-0.076185</td>\n",
       "      <td>0.076185</td>\n",
       "      <td>-1.000000</td>\n",
       "      <td>1.000000</td>\n",
       "      <td>-0.002425</td>\n",
       "      <td>-0.011156</td>\n",
       "      <td>0.017117</td>\n",
       "      <td>-0.004184</td>\n",
       "    </tr>\n",
       "    <tr>\n",
       "      <th>region_northeast</th>\n",
       "      <td>0.002475</td>\n",
       "      <td>-0.138156</td>\n",
       "      <td>-0.022808</td>\n",
       "      <td>0.006349</td>\n",
       "      <td>-0.002811</td>\n",
       "      <td>0.002811</td>\n",
       "      <td>0.002425</td>\n",
       "      <td>-0.002425</td>\n",
       "      <td>1.000000</td>\n",
       "      <td>-0.320177</td>\n",
       "      <td>-0.345561</td>\n",
       "      <td>-0.320177</td>\n",
       "    </tr>\n",
       "    <tr>\n",
       "      <th>region_northwest</th>\n",
       "      <td>-0.000407</td>\n",
       "      <td>-0.135996</td>\n",
       "      <td>0.024806</td>\n",
       "      <td>-0.039905</td>\n",
       "      <td>0.036945</td>\n",
       "      <td>-0.036945</td>\n",
       "      <td>0.011156</td>\n",
       "      <td>-0.011156</td>\n",
       "      <td>-0.320177</td>\n",
       "      <td>1.000000</td>\n",
       "      <td>-0.346265</td>\n",
       "      <td>-0.320829</td>\n",
       "    </tr>\n",
       "    <tr>\n",
       "      <th>region_southeast</th>\n",
       "      <td>-0.011642</td>\n",
       "      <td>0.270025</td>\n",
       "      <td>-0.023066</td>\n",
       "      <td>0.073982</td>\n",
       "      <td>-0.068498</td>\n",
       "      <td>0.068498</td>\n",
       "      <td>-0.017117</td>\n",
       "      <td>0.017117</td>\n",
       "      <td>-0.345561</td>\n",
       "      <td>-0.346265</td>\n",
       "      <td>1.000000</td>\n",
       "      <td>-0.346265</td>\n",
       "    </tr>\n",
       "    <tr>\n",
       "      <th>region_southwest</th>\n",
       "      <td>0.010016</td>\n",
       "      <td>-0.006205</td>\n",
       "      <td>0.021914</td>\n",
       "      <td>-0.043210</td>\n",
       "      <td>0.036945</td>\n",
       "      <td>-0.036945</td>\n",
       "      <td>0.004184</td>\n",
       "      <td>-0.004184</td>\n",
       "      <td>-0.320177</td>\n",
       "      <td>-0.320829</td>\n",
       "      <td>-0.346265</td>\n",
       "      <td>1.000000</td>\n",
       "    </tr>\n",
       "  </tbody>\n",
       "</table>\n",
       "</div>"
      ],
      "text/plain": [
       "                       age       bmi  children   charges  smoker_no  \\\n",
       "age               1.000000  0.109272  0.042469  0.299008   0.025019   \n",
       "bmi               0.109272  1.000000  0.012759  0.198341  -0.003750   \n",
       "children          0.042469  0.012759  1.000000  0.067998  -0.007673   \n",
       "charges           0.299008  0.198341  0.067998  1.000000  -0.787251   \n",
       "smoker_no         0.025019 -0.003750 -0.007673 -0.787251   1.000000   \n",
       "smoker_yes       -0.025019  0.003750  0.007673  0.787251  -1.000000   \n",
       "sex_female        0.020856 -0.046371 -0.017163 -0.057292   0.076185   \n",
       "sex_male         -0.020856  0.046371  0.017163  0.057292  -0.076185   \n",
       "region_northeast  0.002475 -0.138156 -0.022808  0.006349  -0.002811   \n",
       "region_northwest -0.000407 -0.135996  0.024806 -0.039905   0.036945   \n",
       "region_southeast -0.011642  0.270025 -0.023066  0.073982  -0.068498   \n",
       "region_southwest  0.010016 -0.006205  0.021914 -0.043210   0.036945   \n",
       "\n",
       "                  smoker_yes  sex_female  sex_male  region_northeast  \\\n",
       "age                -0.025019    0.020856 -0.020856          0.002475   \n",
       "bmi                 0.003750   -0.046371  0.046371         -0.138156   \n",
       "children            0.007673   -0.017163  0.017163         -0.022808   \n",
       "charges             0.787251   -0.057292  0.057292          0.006349   \n",
       "smoker_no          -1.000000    0.076185 -0.076185         -0.002811   \n",
       "smoker_yes          1.000000   -0.076185  0.076185          0.002811   \n",
       "sex_female         -0.076185    1.000000 -1.000000          0.002425   \n",
       "sex_male            0.076185   -1.000000  1.000000         -0.002425   \n",
       "region_northeast    0.002811    0.002425 -0.002425          1.000000   \n",
       "region_northwest   -0.036945    0.011156 -0.011156         -0.320177   \n",
       "region_southeast    0.068498   -0.017117  0.017117         -0.345561   \n",
       "region_southwest   -0.036945    0.004184 -0.004184         -0.320177   \n",
       "\n",
       "                  region_northwest  region_southeast  region_southwest  \n",
       "age                      -0.000407         -0.011642          0.010016  \n",
       "bmi                      -0.135996          0.270025         -0.006205  \n",
       "children                  0.024806         -0.023066          0.021914  \n",
       "charges                  -0.039905          0.073982         -0.043210  \n",
       "smoker_no                 0.036945         -0.068498          0.036945  \n",
       "smoker_yes               -0.036945          0.068498         -0.036945  \n",
       "sex_female                0.011156         -0.017117          0.004184  \n",
       "sex_male                 -0.011156          0.017117         -0.004184  \n",
       "region_northeast         -0.320177         -0.345561         -0.320177  \n",
       "region_northwest          1.000000         -0.346265         -0.320829  \n",
       "region_southeast         -0.346265          1.000000         -0.346265  \n",
       "region_southwest         -0.320829         -0.346265          1.000000  "
      ]
     },
     "execution_count": 25,
     "metadata": {},
     "output_type": "execute_result"
    }
   ],
   "source": [
    "ds_final.corr()"
   ]
  },
  {
   "cell_type": "markdown",
   "id": "a1ee3416",
   "metadata": {},
   "source": [
    "We observe that some variables like Age, BMI and Smoker_YES have significant positive correlation with Charges. While other attributes like Region, Sex and Number of Children has little to no affect on the dependent variable - Charges"
   ]
  },
  {
   "cell_type": "markdown",
   "id": "1660ce17",
   "metadata": {},
   "source": [
    "So we delete them from final dataset before building a machine learning model"
   ]
  },
  {
   "cell_type": "code",
   "execution_count": 26,
   "id": "257f167e",
   "metadata": {},
   "outputs": [
    {
     "data": {
      "text/html": [
       "<div>\n",
       "<style scoped>\n",
       "    .dataframe tbody tr th:only-of-type {\n",
       "        vertical-align: middle;\n",
       "    }\n",
       "\n",
       "    .dataframe tbody tr th {\n",
       "        vertical-align: top;\n",
       "    }\n",
       "\n",
       "    .dataframe thead th {\n",
       "        text-align: right;\n",
       "    }\n",
       "</style>\n",
       "<table border=\"1\" class=\"dataframe\">\n",
       "  <thead>\n",
       "    <tr style=\"text-align: right;\">\n",
       "      <th></th>\n",
       "      <th>age</th>\n",
       "      <th>bmi</th>\n",
       "      <th>charges</th>\n",
       "      <th>smoker_yes</th>\n",
       "      <th>sex_male</th>\n",
       "    </tr>\n",
       "  </thead>\n",
       "  <tbody>\n",
       "    <tr>\n",
       "      <th>0</th>\n",
       "      <td>19</td>\n",
       "      <td>27.900</td>\n",
       "      <td>16884.92400</td>\n",
       "      <td>1.0</td>\n",
       "      <td>0.0</td>\n",
       "    </tr>\n",
       "    <tr>\n",
       "      <th>1</th>\n",
       "      <td>18</td>\n",
       "      <td>33.770</td>\n",
       "      <td>1725.55230</td>\n",
       "      <td>0.0</td>\n",
       "      <td>1.0</td>\n",
       "    </tr>\n",
       "    <tr>\n",
       "      <th>2</th>\n",
       "      <td>28</td>\n",
       "      <td>33.000</td>\n",
       "      <td>4449.46200</td>\n",
       "      <td>0.0</td>\n",
       "      <td>1.0</td>\n",
       "    </tr>\n",
       "    <tr>\n",
       "      <th>3</th>\n",
       "      <td>33</td>\n",
       "      <td>22.705</td>\n",
       "      <td>21984.47061</td>\n",
       "      <td>0.0</td>\n",
       "      <td>1.0</td>\n",
       "    </tr>\n",
       "    <tr>\n",
       "      <th>4</th>\n",
       "      <td>32</td>\n",
       "      <td>28.880</td>\n",
       "      <td>3866.85520</td>\n",
       "      <td>0.0</td>\n",
       "      <td>1.0</td>\n",
       "    </tr>\n",
       "    <tr>\n",
       "      <th>...</th>\n",
       "      <td>...</td>\n",
       "      <td>...</td>\n",
       "      <td>...</td>\n",
       "      <td>...</td>\n",
       "      <td>...</td>\n",
       "    </tr>\n",
       "    <tr>\n",
       "      <th>1333</th>\n",
       "      <td>50</td>\n",
       "      <td>30.970</td>\n",
       "      <td>10600.54830</td>\n",
       "      <td>0.0</td>\n",
       "      <td>1.0</td>\n",
       "    </tr>\n",
       "    <tr>\n",
       "      <th>1334</th>\n",
       "      <td>18</td>\n",
       "      <td>31.920</td>\n",
       "      <td>2205.98080</td>\n",
       "      <td>0.0</td>\n",
       "      <td>0.0</td>\n",
       "    </tr>\n",
       "    <tr>\n",
       "      <th>1335</th>\n",
       "      <td>18</td>\n",
       "      <td>36.850</td>\n",
       "      <td>1629.83350</td>\n",
       "      <td>0.0</td>\n",
       "      <td>0.0</td>\n",
       "    </tr>\n",
       "    <tr>\n",
       "      <th>1336</th>\n",
       "      <td>21</td>\n",
       "      <td>25.800</td>\n",
       "      <td>2007.94500</td>\n",
       "      <td>0.0</td>\n",
       "      <td>0.0</td>\n",
       "    </tr>\n",
       "    <tr>\n",
       "      <th>1337</th>\n",
       "      <td>61</td>\n",
       "      <td>29.070</td>\n",
       "      <td>29141.36030</td>\n",
       "      <td>1.0</td>\n",
       "      <td>0.0</td>\n",
       "    </tr>\n",
       "  </tbody>\n",
       "</table>\n",
       "<p>1338 rows × 5 columns</p>\n",
       "</div>"
      ],
      "text/plain": [
       "      age     bmi      charges  smoker_yes  sex_male\n",
       "0      19  27.900  16884.92400         1.0       0.0\n",
       "1      18  33.770   1725.55230         0.0       1.0\n",
       "2      28  33.000   4449.46200         0.0       1.0\n",
       "3      33  22.705  21984.47061         0.0       1.0\n",
       "4      32  28.880   3866.85520         0.0       1.0\n",
       "...   ...     ...          ...         ...       ...\n",
       "1333   50  30.970  10600.54830         0.0       1.0\n",
       "1334   18  31.920   2205.98080         0.0       0.0\n",
       "1335   18  36.850   1629.83350         0.0       0.0\n",
       "1336   21  25.800   2007.94500         0.0       0.0\n",
       "1337   61  29.070  29141.36030         1.0       0.0\n",
       "\n",
       "[1338 rows x 5 columns]"
      ]
     },
     "execution_count": 26,
     "metadata": {},
     "output_type": "execute_result"
    }
   ],
   "source": [
    "#Drop Redundant Information\n",
    "ds_final = ds_final.drop(columns=['smoker_no', 'sex_female', 'children','region_northeast', 'region_northwest', 'region_southeast', 'region_southwest'])\n",
    "ds_final"
   ]
  },
  {
   "cell_type": "code",
   "execution_count": 27,
   "id": "ef7ada43",
   "metadata": {},
   "outputs": [
    {
     "name": "stdout",
     "output_type": "stream",
     "text": [
      "<class 'pandas.core.frame.DataFrame'>\n",
      "RangeIndex: 1338 entries, 0 to 1337\n",
      "Data columns (total 5 columns):\n",
      " #   Column      Non-Null Count  Dtype  \n",
      "---  ------      --------------  -----  \n",
      " 0   age         1338 non-null   int64  \n",
      " 1   bmi         1338 non-null   float64\n",
      " 2   charges     1338 non-null   float64\n",
      " 3   smoker_yes  1338 non-null   float64\n",
      " 4   sex_male    1338 non-null   float64\n",
      "dtypes: float64(4), int64(1)\n",
      "memory usage: 52.4 KB\n",
      "None\n"
     ]
    }
   ],
   "source": [
    "print(ds_final.info())"
   ]
  },
  {
   "cell_type": "markdown",
   "id": "bcf13210",
   "metadata": {},
   "source": [
    "<b> Separating X and y for Machine Learning Model </b>"
   ]
  },
  {
   "cell_type": "code",
   "execution_count": 28,
   "id": "3a855846",
   "metadata": {},
   "outputs": [
    {
     "data": {
      "text/html": [
       "<div>\n",
       "<style scoped>\n",
       "    .dataframe tbody tr th:only-of-type {\n",
       "        vertical-align: middle;\n",
       "    }\n",
       "\n",
       "    .dataframe tbody tr th {\n",
       "        vertical-align: top;\n",
       "    }\n",
       "\n",
       "    .dataframe thead th {\n",
       "        text-align: right;\n",
       "    }\n",
       "</style>\n",
       "<table border=\"1\" class=\"dataframe\">\n",
       "  <thead>\n",
       "    <tr style=\"text-align: right;\">\n",
       "      <th></th>\n",
       "      <th>age</th>\n",
       "      <th>bmi</th>\n",
       "      <th>smoker_yes</th>\n",
       "      <th>sex_male</th>\n",
       "    </tr>\n",
       "  </thead>\n",
       "  <tbody>\n",
       "    <tr>\n",
       "      <th>0</th>\n",
       "      <td>19</td>\n",
       "      <td>27.900</td>\n",
       "      <td>1.0</td>\n",
       "      <td>0.0</td>\n",
       "    </tr>\n",
       "    <tr>\n",
       "      <th>1</th>\n",
       "      <td>18</td>\n",
       "      <td>33.770</td>\n",
       "      <td>0.0</td>\n",
       "      <td>1.0</td>\n",
       "    </tr>\n",
       "    <tr>\n",
       "      <th>2</th>\n",
       "      <td>28</td>\n",
       "      <td>33.000</td>\n",
       "      <td>0.0</td>\n",
       "      <td>1.0</td>\n",
       "    </tr>\n",
       "    <tr>\n",
       "      <th>3</th>\n",
       "      <td>33</td>\n",
       "      <td>22.705</td>\n",
       "      <td>0.0</td>\n",
       "      <td>1.0</td>\n",
       "    </tr>\n",
       "    <tr>\n",
       "      <th>4</th>\n",
       "      <td>32</td>\n",
       "      <td>28.880</td>\n",
       "      <td>0.0</td>\n",
       "      <td>1.0</td>\n",
       "    </tr>\n",
       "    <tr>\n",
       "      <th>...</th>\n",
       "      <td>...</td>\n",
       "      <td>...</td>\n",
       "      <td>...</td>\n",
       "      <td>...</td>\n",
       "    </tr>\n",
       "    <tr>\n",
       "      <th>1333</th>\n",
       "      <td>50</td>\n",
       "      <td>30.970</td>\n",
       "      <td>0.0</td>\n",
       "      <td>1.0</td>\n",
       "    </tr>\n",
       "    <tr>\n",
       "      <th>1334</th>\n",
       "      <td>18</td>\n",
       "      <td>31.920</td>\n",
       "      <td>0.0</td>\n",
       "      <td>0.0</td>\n",
       "    </tr>\n",
       "    <tr>\n",
       "      <th>1335</th>\n",
       "      <td>18</td>\n",
       "      <td>36.850</td>\n",
       "      <td>0.0</td>\n",
       "      <td>0.0</td>\n",
       "    </tr>\n",
       "    <tr>\n",
       "      <th>1336</th>\n",
       "      <td>21</td>\n",
       "      <td>25.800</td>\n",
       "      <td>0.0</td>\n",
       "      <td>0.0</td>\n",
       "    </tr>\n",
       "    <tr>\n",
       "      <th>1337</th>\n",
       "      <td>61</td>\n",
       "      <td>29.070</td>\n",
       "      <td>1.0</td>\n",
       "      <td>0.0</td>\n",
       "    </tr>\n",
       "  </tbody>\n",
       "</table>\n",
       "<p>1338 rows × 4 columns</p>\n",
       "</div>"
      ],
      "text/plain": [
       "      age     bmi  smoker_yes  sex_male\n",
       "0      19  27.900         1.0       0.0\n",
       "1      18  33.770         0.0       1.0\n",
       "2      28  33.000         0.0       1.0\n",
       "3      33  22.705         0.0       1.0\n",
       "4      32  28.880         0.0       1.0\n",
       "...   ...     ...         ...       ...\n",
       "1333   50  30.970         0.0       1.0\n",
       "1334   18  31.920         0.0       0.0\n",
       "1335   18  36.850         0.0       0.0\n",
       "1336   21  25.800         0.0       0.0\n",
       "1337   61  29.070         1.0       0.0\n",
       "\n",
       "[1338 rows x 4 columns]"
      ]
     },
     "execution_count": 28,
     "metadata": {},
     "output_type": "execute_result"
    }
   ],
   "source": [
    "X = ds_final.drop(columns='charges')\n",
    "X"
   ]
  },
  {
   "cell_type": "code",
   "execution_count": 29,
   "id": "753fbd0a",
   "metadata": {},
   "outputs": [
    {
     "data": {
      "text/html": [
       "<div>\n",
       "<style scoped>\n",
       "    .dataframe tbody tr th:only-of-type {\n",
       "        vertical-align: middle;\n",
       "    }\n",
       "\n",
       "    .dataframe tbody tr th {\n",
       "        vertical-align: top;\n",
       "    }\n",
       "\n",
       "    .dataframe thead th {\n",
       "        text-align: right;\n",
       "    }\n",
       "</style>\n",
       "<table border=\"1\" class=\"dataframe\">\n",
       "  <thead>\n",
       "    <tr style=\"text-align: right;\">\n",
       "      <th></th>\n",
       "      <th>charges</th>\n",
       "    </tr>\n",
       "  </thead>\n",
       "  <tbody>\n",
       "    <tr>\n",
       "      <th>0</th>\n",
       "      <td>16884.92400</td>\n",
       "    </tr>\n",
       "    <tr>\n",
       "      <th>1</th>\n",
       "      <td>1725.55230</td>\n",
       "    </tr>\n",
       "    <tr>\n",
       "      <th>2</th>\n",
       "      <td>4449.46200</td>\n",
       "    </tr>\n",
       "    <tr>\n",
       "      <th>3</th>\n",
       "      <td>21984.47061</td>\n",
       "    </tr>\n",
       "    <tr>\n",
       "      <th>4</th>\n",
       "      <td>3866.85520</td>\n",
       "    </tr>\n",
       "    <tr>\n",
       "      <th>...</th>\n",
       "      <td>...</td>\n",
       "    </tr>\n",
       "    <tr>\n",
       "      <th>1333</th>\n",
       "      <td>10600.54830</td>\n",
       "    </tr>\n",
       "    <tr>\n",
       "      <th>1334</th>\n",
       "      <td>2205.98080</td>\n",
       "    </tr>\n",
       "    <tr>\n",
       "      <th>1335</th>\n",
       "      <td>1629.83350</td>\n",
       "    </tr>\n",
       "    <tr>\n",
       "      <th>1336</th>\n",
       "      <td>2007.94500</td>\n",
       "    </tr>\n",
       "    <tr>\n",
       "      <th>1337</th>\n",
       "      <td>29141.36030</td>\n",
       "    </tr>\n",
       "  </tbody>\n",
       "</table>\n",
       "<p>1338 rows × 1 columns</p>\n",
       "</div>"
      ],
      "text/plain": [
       "          charges\n",
       "0     16884.92400\n",
       "1      1725.55230\n",
       "2      4449.46200\n",
       "3     21984.47061\n",
       "4      3866.85520\n",
       "...           ...\n",
       "1333  10600.54830\n",
       "1334   2205.98080\n",
       "1335   1629.83350\n",
       "1336   2007.94500\n",
       "1337  29141.36030\n",
       "\n",
       "[1338 rows x 1 columns]"
      ]
     },
     "execution_count": 29,
     "metadata": {},
     "output_type": "execute_result"
    }
   ],
   "source": [
    "y = ds_final[['charges']]\n",
    "y"
   ]
  },
  {
   "cell_type": "markdown",
   "id": "8b25dc12",
   "metadata": {},
   "source": [
    "<h3> MODEL BUILDING </h3>"
   ]
  },
  {
   "cell_type": "code",
   "execution_count": 30,
   "id": "607ecb59",
   "metadata": {},
   "outputs": [],
   "source": [
    "from sklearn.model_selection import train_test_split\n",
    "from sklearn.model_selection import KFold, cross_val_score\n",
    "#Import Linear Regression Model from sklearn\n",
    "from sklearn.linear_model import LinearRegression\n"
   ]
  },
  {
   "cell_type": "markdown",
   "id": "64570c50",
   "metadata": {},
   "source": [
    "Dividing the dataset into two train-test-split models as instructed in the assignment"
   ]
  },
  {
   "cell_type": "code",
   "execution_count": 31,
   "id": "88cce921",
   "metadata": {},
   "outputs": [],
   "source": [
    "# Test-Train Data Split\n",
    "X_train1, X_test1, y_train1, y_test1 = train_test_split(X, y, test_size=0.2, random_state=0)\n",
    "X_train2, X_test2, y_train2, y_test2 = train_test_split(X, y, test_size=0.1, random_state=0)"
   ]
  },
  {
   "cell_type": "markdown",
   "id": "9518d58d",
   "metadata": {},
   "source": [
    "Initialize the k-fold cross-validation object"
   ]
  },
  {
   "cell_type": "code",
   "execution_count": 32,
   "id": "5d601f62",
   "metadata": {},
   "outputs": [],
   "source": [
    "k = 5  # Number of folds\n",
    "kf = KFold(n_splits=k, shuffle=True)"
   ]
  },
  {
   "cell_type": "markdown",
   "id": "ce208ea6",
   "metadata": {},
   "source": [
    "<h3>MODEL 1</h3>"
   ]
  },
  {
   "cell_type": "code",
   "execution_count": 33,
   "id": "425f7076",
   "metadata": {},
   "outputs": [],
   "source": [
    "#Create Models for Linear Regression\n",
    "model_1 = LinearRegression()"
   ]
  },
  {
   "cell_type": "code",
   "execution_count": 34,
   "id": "2da9f10c",
   "metadata": {},
   "outputs": [
    {
     "name": "stdout",
     "output_type": "stream",
     "text": [
      "Cross-validation scores: [0.75606423 0.7154627  0.72539065 0.76875045 0.66074973]\n",
      "Average cross-validation score: 0.7252835516377576\n"
     ]
    }
   ],
   "source": [
    "# Perform K_FOLD cross-validation\n",
    "cross_val_scores = cross_val_score(model_1, X_train1, y_train1, cv=kf)\n",
    "\n",
    "# Print the cross-validation scores\n",
    "print(\"Cross-validation scores:\", cross_val_scores)\n",
    "\n",
    "# Calculate the average cross-validation score\n",
    "average_score = cross_val_scores.mean()\n",
    "print(\"Average cross-validation score:\", average_score)"
   ]
  },
  {
   "cell_type": "markdown",
   "id": "757a1952",
   "metadata": {},
   "source": [
    "The average cross validation score of 0.72 suggests that the model explains approximately 72.5% of the variance in the target variable. This indicates that the model captures a substantial portion of the variability in the data, making it relatively effective in predicting the target variable."
   ]
  },
  {
   "cell_type": "code",
   "execution_count": 35,
   "id": "66fe9d4e",
   "metadata": {},
   "outputs": [
    {
     "data": {
      "text/plain": [
       "LinearRegression()"
      ]
     },
     "execution_count": 35,
     "metadata": {},
     "output_type": "execute_result"
    }
   ],
   "source": [
    "#Apply Linear Regression to Train Samples\n",
    "model_1.fit(X_train1, y_train1)"
   ]
  },
  {
   "cell_type": "markdown",
   "id": "c91bc9c4",
   "metadata": {},
   "source": [
    "MAKING PREDICTION FOR TEST DATASET FOR MODEL 1"
   ]
  },
  {
   "cell_type": "code",
   "execution_count": 36,
   "id": "407c7f55",
   "metadata": {},
   "outputs": [],
   "source": [
    "prediction_model1 = model_1.predict(X_test1) #Model Predictions for Test Data 1"
   ]
  },
  {
   "cell_type": "markdown",
   "id": "6e29e4fe",
   "metadata": {},
   "source": [
    "<h3>MODEL 2</h3>"
   ]
  },
  {
   "cell_type": "code",
   "execution_count": 37,
   "id": "ababa687",
   "metadata": {},
   "outputs": [],
   "source": [
    "#Create Models for Linear Regression\n",
    "model_2 = LinearRegression()"
   ]
  },
  {
   "cell_type": "code",
   "execution_count": 38,
   "id": "de192e13",
   "metadata": {},
   "outputs": [
    {
     "name": "stdout",
     "output_type": "stream",
     "text": [
      "Cross-validation scores: [0.75640641 0.69516305 0.71407232 0.7107148  0.77363428]\n",
      "Average cross-validation score: 0.7299981728358853\n"
     ]
    }
   ],
   "source": [
    "# Perform K_FOLD cross-validation\n",
    "cross_val_scores = cross_val_score(model_2, X_train2, y_train2, cv=kf)\n",
    "\n",
    "# Print the cross-validation scores\n",
    "print(\"Cross-validation scores:\", cross_val_scores)\n",
    "\n",
    "# Calculate the average cross-validation score\n",
    "average_score = cross_val_scores.mean()\n",
    "print(\"Average cross-validation score:\", average_score)"
   ]
  },
  {
   "cell_type": "markdown",
   "id": "ab631dab",
   "metadata": {},
   "source": [
    "The average cross-val score of 0.729 suggests that the model explains approximately 72.9% of the variance in the target variable. This indicates that the model captures a substantial portion of the variability in the data, making it relatively effective in predicting the target variable."
   ]
  },
  {
   "cell_type": "code",
   "execution_count": 39,
   "id": "a36ce51f",
   "metadata": {},
   "outputs": [
    {
     "data": {
      "text/plain": [
       "LinearRegression()"
      ]
     },
     "execution_count": 39,
     "metadata": {},
     "output_type": "execute_result"
    }
   ],
   "source": [
    "#Apply Linear Regression to Train Samples\n",
    "model_2.fit(X_train2, y_train2)"
   ]
  },
  {
   "cell_type": "markdown",
   "id": "afa0aa06",
   "metadata": {},
   "source": [
    "MAKING PREDICTION FOR TEST DATASET FOR MODEL 2"
   ]
  },
  {
   "cell_type": "code",
   "execution_count": 40,
   "id": "b5bd3674",
   "metadata": {},
   "outputs": [],
   "source": [
    "\n",
    "prediction_model2 = model_2.predict(X_test2) #Model Predictions for Test Data 2"
   ]
  },
  {
   "cell_type": "markdown",
   "id": "f2f7be49",
   "metadata": {},
   "source": [
    "<h3>PERFORMANCE VISUALIZATION </h3>"
   ]
  },
  {
   "cell_type": "markdown",
   "id": "2c4d42f0",
   "metadata": {},
   "source": [
    "ERROR/RESIDUAL DISTRIBUTION"
   ]
  },
  {
   "cell_type": "code",
   "execution_count": 41,
   "id": "712010db",
   "metadata": {},
   "outputs": [
    {
     "data": {
      "text/plain": [
       "Text(0.5, 1.0, 'Residual Distribution Plot for Model 2')"
      ]
     },
     "execution_count": 41,
     "metadata": {},
     "output_type": "execute_result"
    },
    {
     "data": {
      "image/png": "[encoded data removed]",
      "text/plain": [
       "<Figure size 1152x288 with 2 Axes>"
      ]
     },
     "metadata": {
      "needs_background": "light"
     },
     "output_type": "display_data"
    }
   ],
   "source": [
    "error_1 = y_test1 - prediction_model1\n",
    "error_2 = y_test2 - prediction_model2\n",
    "\n",
    "fig, axes =plt.subplots(1,2, figsize=(16,4))\n",
    "axes[0].hist(error_1, bins = 268)\n",
    "axes[0].set_xlabel('Residuals')\n",
    "axes[0].set_ylabel('Frequency')\n",
    "axes[0].set_title('Residual Distribution Plot for Model 1')\n",
    "\n",
    "axes[1].hist(error_2, bins = 268)\n",
    "axes[1].set_xlabel('Residuals')\n",
    "axes[1].set_ylabel('Frequency')\n",
    "axes[1].set_title('Residual Distribution Plot for Model 2')"
   ]
  },
  {
   "cell_type": "markdown",
   "id": "eebd86fe",
   "metadata": {},
   "source": [
    "Residual Distribution shows residuals are randomly scattered around the horizontal line at zero. This suggests that the model captures the underlying patterns well and the errors are mostly unbiased."
   ]
  },
  {
   "cell_type": "code",
   "execution_count": 42,
   "id": "409efea6",
   "metadata": {},
   "outputs": [
    {
     "data": {
      "text/plain": [
       "<matplotlib.legend.Legend at 0x1619d706490>"
      ]
     },
     "execution_count": 42,
     "metadata": {},
     "output_type": "execute_result"
    },
    {
     "data": {
      "image/png": "[encoded data removed]",
      "text/plain": [
       "<Figure size 1152x288 with 2 Axes>"
      ]
     },
     "metadata": {
      "needs_background": "light"
     },
     "output_type": "display_data"
    }
   ],
   "source": [
    "fig, axes =plt.subplots(1,2, figsize=(16,4))\n",
    "\n",
    "sns.histplot(y_test1, kde=True, label=\"Actual Values\", color=\"g\", ax=axes[0])\n",
    "sns.histplot(prediction_model1, kde=True, label=\"Predicted Values\", color=\"r\", ax=axes[0])\n",
    "\n",
    "sns.histplot(y_test2, kde=True, color=\"g\", label=\"Actual Values\", ax=axes[1])\n",
    "sns.histplot(prediction_model2, kde=True, color=\"r\", label=\"Predicted Values\", ax=axes[1])\n",
    "\n",
    "# Set titles for subplots\n",
    "axes[0].set_title(\"Actual Vs. Predicted value for Model 1\")\n",
    "axes[1].set_title(\"Actual Vs. Predicted value for Model 2\")\n",
    "\n",
    "# Add legends to subplots\n",
    "axes[0].legend()\n",
    "axes[1].legend()"
   ]
  },
  {
   "cell_type": "markdown",
   "id": "99823ad6",
   "metadata": {},
   "source": [
    "Kernel Density Estimation follows a same pattern for actual and predicted values in both the models. Our models only deviates very slightly from the actual values."
   ]
  },
  {
   "cell_type": "markdown",
   "id": "8dad6c39",
   "metadata": {},
   "source": [
    "<h3>PERFORMANCE MEASURES </h3>"
   ]
  },
  {
   "cell_type": "markdown",
   "id": "95c64ad6",
   "metadata": {},
   "source": [
    "CALCULATING MEAN ABSOLUTE ERROR FOR BOTH MODELS"
   ]
  },
  {
   "cell_type": "code",
   "execution_count": 43,
   "id": "741571a5",
   "metadata": {},
   "outputs": [],
   "source": [
    "from sklearn.metrics import mean_absolute_error\n",
    "\n",
    "MAE_Model1 = mean_absolute_error(y_test1, prediction_model1)\n",
    "MAE_Model2 = mean_absolute_error(y_test2, prediction_model2)\n"
   ]
  },
  {
   "cell_type": "markdown",
   "id": "fdc3a220",
   "metadata": {},
   "source": [
    "CALCULATING ROOT MEAN SQUARE ERRORS"
   ]
  },
  {
   "cell_type": "code",
   "execution_count": 44,
   "id": "d9b744f0",
   "metadata": {},
   "outputs": [],
   "source": [
    "from sklearn.metrics import mean_squared_error\n",
    "\n",
    "\n",
    "lin_mse_1 = mean_squared_error(y_test1, prediction_model1)\n",
    "lin_mse_2 = mean_squared_error(y_test2, prediction_model2)\n",
    "lin_rmse_1 = np.sqrt(lin_mse_1)\n",
    "lin_rmse_2 = np.sqrt(lin_mse_2)\n",
    "\n"
   ]
  },
  {
   "cell_type": "markdown",
   "id": "9d0030c7",
   "metadata": {},
   "source": [
    "CALCULATING R2-SCORES FOR BOTH MODELS"
   ]
  },
  {
   "cell_type": "code",
   "execution_count": 45,
   "id": "85eabc3f",
   "metadata": {},
   "outputs": [],
   "source": [
    "from sklearn.metrics import r2_score\n",
    "r2_score_1 = r2_score(y_test1, prediction_model1)\n",
    "r2_score_2 = r2_score(y_test2, prediction_model2)\n"
   ]
  },
  {
   "cell_type": "markdown",
   "id": "8fbb8ea3",
   "metadata": {},
   "source": [
    "LISTING PERFORMANCE IN TUBULAR FORMAT"
   ]
  },
  {
   "cell_type": "code",
   "execution_count": 46,
   "id": "104fd1fb",
   "metadata": {},
   "outputs": [
    {
     "data": {
      "text/html": [
       "<div>\n",
       "<style scoped>\n",
       "    .dataframe tbody tr th:only-of-type {\n",
       "        vertical-align: middle;\n",
       "    }\n",
       "\n",
       "    .dataframe tbody tr th {\n",
       "        vertical-align: top;\n",
       "    }\n",
       "\n",
       "    .dataframe thead th {\n",
       "        text-align: right;\n",
       "    }\n",
       "</style>\n",
       "<table border=\"1\" class=\"dataframe\">\n",
       "  <thead>\n",
       "    <tr style=\"text-align: right;\">\n",
       "      <th></th>\n",
       "      <th>MODEL</th>\n",
       "      <th>MAE</th>\n",
       "      <th>RMSE</th>\n",
       "      <th>R2-Score</th>\n",
       "    </tr>\n",
       "  </thead>\n",
       "  <tbody>\n",
       "    <tr>\n",
       "      <th>0</th>\n",
       "      <td>MODEL 1</td>\n",
       "      <td>3961.100225</td>\n",
       "      <td>5717.913547</td>\n",
       "      <td>0.794542</td>\n",
       "    </tr>\n",
       "    <tr>\n",
       "      <th>1</th>\n",
       "      <td>MODEL 2</td>\n",
       "      <td>4265.132111</td>\n",
       "      <td>5914.071874</td>\n",
       "      <td>0.819620</td>\n",
       "    </tr>\n",
       "  </tbody>\n",
       "</table>\n",
       "</div>"
      ],
      "text/plain": [
       "     MODEL          MAE         RMSE  R2-Score\n",
       "0  MODEL 1  3961.100225  5717.913547  0.794542\n",
       "1  MODEL 2  4265.132111  5914.071874  0.819620"
      ]
     },
     "execution_count": 46,
     "metadata": {},
     "output_type": "execute_result"
    }
   ],
   "source": [
    "df = pd.DataFrame(columns=['MODEL','MAE','RMSE','R2-Score'])\n",
    "df['MODEL'] = ('MODEL 1', 'MODEL 2')\n",
    "df['MAE'] = (MAE_Model1, MAE_Model2)\n",
    "df['RMSE'] = (lin_rmse_1, lin_rmse_2)\n",
    "df['R2-Score'] = (r2_score_1, r2_score_2)\n",
    "df"
   ]
  },
  {
   "cell_type": "markdown",
   "id": "bd01dc69",
   "metadata": {},
   "source": [
    "Both of the Models show equal variance. The other evaluation metrics are also almost the same. The \"Actual vs Predicted Values\" for both models graph also tells us that the performance is more or less same. "
   ]
  }
 ],
 "metadata": {
  "kernelspec": {
   "display_name": "Python 3 (ipykernel)",
   "language": "python",
   "name": "python3"
  },
  "language_info": {
   "codemirror_mode": {
    "name": "ipython",
    "version": 3
   },
   "file_extension": ".py",
   "mimetype": "text/x-python",
   "name": "python",
   "nbconvert_exporter": "python",
   "pygments_lexer": "ipython3",
   "version": "3.9.18"
  }
 },
 "nbformat": 4,
 "nbformat_minor": 5
}
